{
 "cells": [
  {
   "cell_type": "code",
   "execution_count": 1,
   "id": "8ad56bd6",
   "metadata": {},
   "outputs": [],
   "source": [
    "import re\n",
    "import torch\n",
    "import matplotlib.pyplot as plt\n",
    "import numpy as np\n",
    "%matplotlib inline\n",
    "import math\n",
    "import random\n",
    "import torch.nn.functional as F"
   ]
  },
  {
   "cell_type": "code",
   "execution_count": 2,
   "id": "47d17480",
   "metadata": {},
   "outputs": [],
   "source": [
    "def read_bird_names(fname):\n",
    "    names = []\n",
    "    with open(fname, 'r') as fp:\n",
    "        next(fp)\n",
    "        for line in fp:\n",
    "            if \",Aves,\" in line:\n",
    "                toks = line.split(',')\n",
    "                try:\n",
    "                    name = toks[17].lower()\n",
    "                    #remove any non a-z, apostrophe or space\n",
    "                    name = re.sub(r'[^a-z\\s]', '', name)\n",
    "                    name = re.sub(r'\\s+', '_', name)\n",
    "                    name = name.strip()\n",
    "                    if len(name) > 3:\n",
    "                        names.append(name)\n",
    "                except:\n",
    "                    pass\n",
    "    return sorted(list(set(names)))\n",
    "words = read_bird_names(\"/Users/satyajitgupte/code/birds/taxa_english.csv\")\n",
    "random.shuffle(words)"
   ]
  },
  {
   "cell_type": "code",
   "execution_count": 3,
   "id": "0f9df2c1",
   "metadata": {},
   "outputs": [
    {
     "data": {
      "text/plain": [
       "['rusty_mousewarbler', 'typical_stilts', 'wagtailtyrants']"
      ]
     },
     "execution_count": 3,
     "metadata": {},
     "output_type": "execute_result"
    }
   ],
   "source": [
    "words[:3]"
   ]
  },
  {
   "cell_type": "code",
   "execution_count": 4,
   "id": "db6d7b16",
   "metadata": {},
   "outputs": [],
   "source": [
    "chars = sorted(list(set(''.join(words))))\n",
    "# +1 for .\n",
    "sz = len(chars) + 1\n",
    "itos = {i+1:s for i,s in enumerate(chars)}\n",
    "itos[0] = '.'\n",
    "stoi = {s:i for i,s in itos.items()}"
   ]
  },
  {
   "cell_type": "code",
   "execution_count": 5,
   "id": "0205eee7",
   "metadata": {},
   "outputs": [],
   "source": [
    "def make_dataset(words, block_size=2):\n",
    "    xs = []\n",
    "    ys = []\n",
    "    for word in words:\n",
    "        #print(word)\n",
    "        context = [0]*block_size\n",
    "        for char in word + '.':\n",
    "            ix = stoi[char]\n",
    "            ys.append(ix)\n",
    "            xs.append(context)\n",
    "            #print(f\"{''.join(itos[c] for c in context)}->{itos[ix]}\")\n",
    "            context = context[1:] + [ix]\n",
    "    return torch.tensor(xs), torch.tensor(ys)"
   ]
  },
  {
   "cell_type": "code",
   "execution_count": 6,
   "id": "a7e743fe",
   "metadata": {},
   "outputs": [],
   "source": [
    "block_size = 8\n",
    "n1 = int(0.8*len(words))\n",
    "n2 = int(0.9*len(words))\n",
    "Xtr,Ytr = make_dataset(words[:n1], block_size)\n",
    "Xdev,Ydev = make_dataset(words[n1:n2], block_size)\n",
    "Xte,Yte = make_dataset(words[n2:], block_size)"
   ]
  },
  {
   "cell_type": "code",
   "execution_count": 27,
   "id": "23fec72c",
   "metadata": {},
   "outputs": [
    {
     "name": "stdout",
     "output_type": "stream",
     "text": [
      "........ --> r\n",
      ".......r --> u\n",
      "......ru --> s\n",
      ".....rus --> t\n",
      "....rust --> y\n",
      "...rusty --> _\n",
      "..rusty_ --> m\n",
      ".rusty_m --> o\n",
      "rusty_mo --> u\n",
      "usty_mou --> s\n",
      "sty_mous --> e\n",
      "ty_mouse --> w\n",
      "y_mousew --> a\n",
      "_mousewa --> r\n",
      "mousewar --> b\n",
      "ousewarb --> l\n",
      "usewarbl --> e\n",
      "sewarble --> r\n",
      "ewarbler --> .\n",
      "........ --> t\n"
     ]
    }
   ],
   "source": [
    "for x, y in zip(Xtr[:20], Ytr[:20]):\n",
    "    print(''.join([itos[ix.item()] for ix in x]), '-->', itos[y.item()])"
   ]
  },
  {
   "cell_type": "code",
   "execution_count": 227,
   "id": "86c7779d",
   "metadata": {},
   "outputs": [],
   "source": [
    "class Linear:\n",
    "    def __init__(self, fan_in, fan_out, bias=True):\n",
    "        self.weights = torch.randn(fan_in, fan_out)/(fan_in**0.5) # kaiming init\n",
    "        self.bias = torch.zeros(fan_out) if bias else None\n",
    "        \n",
    "    def __call__(self, x):\n",
    "        self.out = x @ self.weights\n",
    "        if self.bias is not None:\n",
    "            self.out += self.bias\n",
    "        return self.out\n",
    "    \n",
    "    def parameters(self):\n",
    "        return [self.weights] + ([] if self.bias is None else [self.bias])\n",
    "    \n",
    "    \n",
    "class BatchNorm1d:\n",
    "    def __init__(self, dim, eps=1e-5, momentum=0.1):\n",
    "        self.eps = eps\n",
    "        self.momentum = momentum\n",
    "        self.training = True\n",
    "        \n",
    "        #batchnorm params\n",
    "        self.gamma = torch.ones(dim)\n",
    "        self.beta = torch.zeros(dim)\n",
    "        \n",
    "        # buffers trained with momentum updates\n",
    "        self.running_mean = torch.ones(dim)\n",
    "        self.running_var = torch.zeros(dim)\n",
    "        \n",
    "    def __call__(self, x):\n",
    "        \n",
    "        if self.training:\n",
    "            if x.ndim == 2:\n",
    "                dim = 0\n",
    "            elif x.ndim == 3:\n",
    "                dim = (0,1)\n",
    "            \n",
    "            #batch mean and var\n",
    "            xmean = x.mean(dim, keepdim=True)\n",
    "            xvar = x.var(dim, keepdim=True)\n",
    "        else:\n",
    "            xmean = self.running_mean\n",
    "            xvar = self.running_var\n",
    "            \n",
    "        xhat = (x - xmean)/torch.sqrt(xvar + self.eps)\n",
    "        self.out = self.gamma*xhat + self.beta\n",
    "        \n",
    "        # update buffers\n",
    "        if self.training:\n",
    "            with torch.no_grad():\n",
    "                self.running_mean = (1 - self.momentum) * self.running_mean + self.momentum * xmean\n",
    "                self.running_var = (1 - self.momentum) * self.running_var + self.momentum * xvar\n",
    "        return self.out\n",
    "    \n",
    "    def parameters(self):\n",
    "        return [self.gamma, self.beta]\n",
    "    \n",
    "class Tanh:\n",
    "    def __call__(self, x):\n",
    "        self.out = torch.tanh(x)\n",
    "        return self.out\n",
    "    \n",
    "    def parameters(self):\n",
    "        return []\n",
    "    \n",
    "class Embedding:\n",
    "    def __init__(self, num_embeddings, embedding_dim):\n",
    "        self.weight = torch.randn(num_embeddings, embedding_dim)\n",
    "        \n",
    "    def __call__(self, IX):\n",
    "        self.out = self.weight[IX]\n",
    "        return self.out\n",
    "    \n",
    "    def parameters(self):\n",
    "        return [self.weight]\n",
    "    \n",
    "class FlattenConsecutive:\n",
    "    def __init__(self, n):\n",
    "        self.n = n\n",
    "        \n",
    "    def __call__(self, x):\n",
    "        B, T, C = x.shape\n",
    "        x = x.view(B, T//self.n, C*self.n)\n",
    "        if x.shape[1] == 1:\n",
    "            x = x.squeeze(1)\n",
    "        self.out = x\n",
    "        return self.out\n",
    "    \n",
    "    def parameters(self):\n",
    "        return []\n",
    "    \n",
    "class Sequential:\n",
    "    def __init__(self, layers):\n",
    "        self.layers = layers\n",
    "        \n",
    "    def __call__(self, x):\n",
    "        for layer in self.layers:\n",
    "            x = layer(x)\n",
    "        self.out = x\n",
    "        return self.out\n",
    "    \n",
    "    def parameters(self):\n",
    "        return [ p for layer in self.layers for p in layer.parameters()]\n",
    "    \n",
    "        "
   ]
  },
  {
   "cell_type": "code",
   "execution_count": 228,
   "id": "a49b233e",
   "metadata": {},
   "outputs": [
    {
     "name": "stdout",
     "output_type": "stream",
     "text": [
      "Num Params= 76732\n"
     ]
    }
   ],
   "source": [
    "## heirarchical net - Wavenet\n",
    "n_embed = 24\n",
    "n_hidden = 128\n",
    "model = Sequential([\n",
    "    Embedding(sz, n_embed),\n",
    "    FlattenConsecutive(2), Linear(n_embed*2, n_hidden, bias=False), BatchNorm1d(n_hidden), Tanh(),\n",
    "    FlattenConsecutive(2), Linear(n_hidden*2, n_hidden, bias=False), BatchNorm1d(n_hidden), Tanh(),\n",
    "    FlattenConsecutive(2), Linear(n_hidden*2, n_hidden, bias=False), BatchNorm1d(n_hidden), Tanh(),\n",
    "    Linear(n_hidden, sz),\n",
    "])\n",
    "\n",
    "# parameter init\n",
    "with torch.no_grad():\n",
    "    model.layers[-1].weights *= 0.1\n",
    "    \n",
    "parameters = model.parameters()\n",
    "for param in parameters:\n",
    "    param.requires_grad = True\n",
    "    \n",
    "print(\"Num Params=\", sum(p.nelement() for p in parameters))\n",
    "    \n",
    "\n",
    "    "
   ]
  },
  {
   "cell_type": "code",
   "execution_count": 231,
   "id": "7ecf00de",
   "metadata": {},
   "outputs": [
    {
     "name": "stdout",
     "output_type": "stream",
     "text": [
      "iter= 0 loss= 3.2930455207824707\n",
      "iter= 10000 loss= 1.2640882730484009\n",
      "iter= 20000 loss= 1.0742664337158203\n",
      "iter= 30000 loss= 1.4870531558990479\n",
      "iter= 40000 loss= 1.7088806629180908\n",
      "iter= 50000 loss= 1.6861320734024048\n",
      "iter= 60000 loss= 1.0498051643371582\n",
      "iter= 70000 loss= 1.171116828918457\n",
      "iter= 80000 loss= 1.307023525238037\n",
      "iter= 90000 loss= 1.0421415567398071\n",
      "iter= 100000 loss= 1.2780659198760986\n",
      "iter= 110000 loss= 1.3236794471740723\n",
      "iter= 120000 loss= 0.5835496187210083\n",
      "iter= 130000 loss= 0.9497001767158508\n",
      "iter= 140000 loss= 0.7906080484390259\n",
      "iter= 150000 loss= 0.9338932633399963\n",
      "iter= 160000 loss= 0.9473894834518433\n",
      "iter= 170000 loss= 0.919169008731842\n",
      "iter= 180000 loss= 0.9080209732055664\n",
      "iter= 190000 loss= 1.2584919929504395\n"
     ]
    }
   ],
   "source": [
    " # track stats\n",
    "lossi = []\n",
    "stepi = []\n",
    "max_steps = 200000\n",
    "\n",
    "# optimize\n",
    "for i in range(max_steps):\n",
    "    # minibatch\n",
    "    ix = torch.randint(0, Xtr.shape[0], (32,))\n",
    "    Xb, Yb = Xtr[ix], Ytr[ix]\n",
    "    # forward\n",
    "    logits = model(Xb)\n",
    "    loss = F.cross_entropy(logits, Yb)\n",
    "    for p in parameters:\n",
    "        p.grad = None\n",
    "    loss.backward()\n",
    "\n",
    "    # update\n",
    "    lr = 0.1 if i < 100000 else 0.01\n",
    "    for param in parameters:     \n",
    "        param.data += -lr*param.grad\n",
    "    if i % 10000 == 0:\n",
    "        print(\"iter=\", i, \"loss=\", loss.item())\n",
    "    lossi.append(loss.item())\n",
    "    stepi.append(i)\n",
    "    #break"
   ]
  },
  {
   "cell_type": "code",
   "execution_count": 232,
   "id": "dda44791",
   "metadata": {
    "scrolled": true
   },
   "outputs": [
    {
     "data": {
      "text/plain": [
       "[<matplotlib.lines.Line2D at 0x119aea980>]"
      ]
     },
     "execution_count": 232,
     "metadata": {},
     "output_type": "execute_result"
    },
    {
     "data": {
      "image/png": "[encoded data removed]",
      "text/plain": [
       "<Figure size 432x288 with 1 Axes>"
      ]
     },
     "metadata": {
      "needs_background": "light"
     },
     "output_type": "display_data"
    }
   ],
   "source": [
    "plt.plot(torch.tensor(lossi).view(-1, 1000).mean(1))"
   ]
  },
  {
   "cell_type": "code",
   "execution_count": 233,
   "id": "7066a490",
   "metadata": {},
   "outputs": [],
   "source": [
    "# put model in eval mode\n",
    "for layer in model.layers:\n",
    "    layer.training = False"
   ]
  },
  {
   "cell_type": "code",
   "execution_count": 234,
   "id": "09034696",
   "metadata": {},
   "outputs": [],
   "source": [
    "@torch.no_grad\n",
    "def evaluate_loss(split):\n",
    "    X, Y = {\n",
    "        \"train\": (Xtr, Ytr),\n",
    "        \"dev\": (Xdev, Ydev),\n",
    "        \"test\": (Xte, Yte)\n",
    "    }[split]\n",
    "    logits = model(X)\n",
    "    loss = F.cross_entropy(logits, Y)\n",
    "    print(split, \"Loss=\", loss.item())"
   ]
  },
  {
   "cell_type": "code",
   "execution_count": 235,
   "id": "fff76ec8",
   "metadata": {},
   "outputs": [
    {
     "name": "stdout",
     "output_type": "stream",
     "text": [
      "train Loss= 1.009708046913147\n",
      "dev Loss= 1.1073951721191406\n"
     ]
    }
   ],
   "source": [
    "evaluate_loss(\"train\")\n",
    "evaluate_loss(\"dev\")"
   ]
  },
  {
   "cell_type": "code",
   "execution_count": 239,
   "id": "69ebca07",
   "metadata": {},
   "outputs": [
    {
     "name": "stdout",
     "output_type": "stream",
     "text": [
      "longs_bird\n",
      "blyths_sclarfronted_honeyeater\n",
      "rufousnaped_sparrow\n",
      "guadalistlet\n",
      "shycrid_hummingbird\n",
      "whitethroated_drongo\n",
      "hill_myzalthroated_whistlingthrush\n",
      "greybabbler\n",
      "ringnecked_whistler\n",
      "maraintanager\n",
      "clapper_tern\n",
      "spicys_petrel\n",
      "european_thrush\n",
      "papuan_coot\n",
      "flanked_warblingfinch_sunbird\n",
      "canrumped_warblingfinch\n",
      "paleafoots_turaco\n",
      "northern\n",
      "barteared_and_woodpecker\n",
      "northern_whitecrested_tatria\n",
      "frn_pygmyowl\n",
      "whiteeared_cuckoo\n",
      "biokaburranean_yellowthroat\n",
      "vibbean_softtalagascar\n",
      "cape_rail\n"
     ]
    }
   ],
   "source": [
    "g = torch.Generator().manual_seed(7)\n",
    "\n",
    "for _ in range(25):\n",
    "    ix = [0]*block_size\n",
    "    out_ixs = []\n",
    "    while True:\n",
    "        logits = model([torch.tensor(ix).unsqueeze(0)])\n",
    "        probs = F.softmax(logits, dim=1)\n",
    "        ix_out = torch.multinomial(probs, num_samples=1, replacement=True, generator=g).item()\n",
    "        ix.append(ix_out)\n",
    "        ix = ix[1:]\n",
    "        if ix_out == 0:\n",
    "            break\n",
    "        out_ixs.append(ix_out)\n",
    "    print(''.join(itos[ix] for ix in out_ixs))"
   ]
  },
  {
   "cell_type": "code",
   "execution_count": 240,
   "id": "449ba979",
   "metadata": {},
   "outputs": [
    {
     "data": {
      "text/plain": [
       "tensor([[-3.9893, -3.2665,  1.3275,  2.0832,  1.5966,  0.3612,  0.6387,  0.4369,\n",
       "          1.7699,  0.6080,  0.2138, -0.7482, -0.0958,  0.9020,  1.3929,  0.7755,\n",
       "         -0.2123,  1.3687, -2.9171,  1.4095,  1.9773,  1.1051, -1.7510, -0.3873,\n",
       "          1.2970, -3.6778,  0.4684, -2.0793]], grad_fn=<AddBackward0>)"
      ]
     },
     "execution_count": 240,
     "metadata": {},
     "output_type": "execute_result"
    }
   ],
   "source": [
    "model(Xtr[0].unsqueeze(0))"
   ]
  },
  {
   "cell_type": "code",
   "execution_count": 241,
   "id": "6848d646",
   "metadata": {},
   "outputs": [
    {
     "data": {
      "text/plain": [
       "tensor([[-4.5755, -0.9333,  3.9662, -1.4714,  0.4321, -1.2061,  6.0850, -3.4826,\n",
       "         -0.1625,  1.1867,  4.6624, -2.1549, -1.2710, -1.0676,  1.3248, -0.6198,\n",
       "          4.7746,  1.8149, -3.9266, -0.9567, -0.6550, -2.1981,  6.2436, -3.5506,\n",
       "          0.8276, -3.9038,  1.2628, -0.4756]], grad_fn=<AddBackward0>)"
      ]
     },
     "execution_count": 241,
     "metadata": {},
     "output_type": "execute_result"
    }
   ],
   "source": [
    "model(Xtr[1:2])"
   ]
  },
  {
   "cell_type": "code",
   "execution_count": 129,
   "id": "ec29856b",
   "metadata": {},
   "outputs": [
    {
     "data": {
      "text/plain": [
       "torch.Size([1, 4, 8])"
      ]
     },
     "execution_count": 129,
     "metadata": {},
     "output_type": "execute_result"
    }
   ],
   "source": [
    "flattened.shape"
   ]
  },
  {
   "cell_type": "code",
   "execution_count": 131,
   "id": "f2d83b37",
   "metadata": {},
   "outputs": [],
   "source": [
    "z1 = flattened @ torch.randn(8, 10)"
   ]
  },
  {
   "cell_type": "code",
   "execution_count": 132,
   "id": "a57b392e",
   "metadata": {},
   "outputs": [
    {
     "data": {
      "text/plain": [
       "torch.Size([1, 4, 10])"
      ]
     },
     "execution_count": 132,
     "metadata": {},
     "output_type": "execute_result"
    }
   ],
   "source": [
    "z1.shape"
   ]
  },
  {
   "cell_type": "code",
   "execution_count": 72,
   "id": "e1fb8576",
   "metadata": {},
   "outputs": [
    {
     "ename": "RuntimeError",
     "evalue": "The size of tensor a (4) must match the size of tensor b (8) at non-singleton dimension 2",
     "output_type": "error",
     "traceback": [
      "\u001b[0;31m---------------------------------------------------------------------------\u001b[0m",
      "\u001b[0;31mRuntimeError\u001b[0m                              Traceback (most recent call last)",
      "\u001b[0;32m/var/folders/v3/cchdhwjd2p550zspwxwj6jlw0000gn/T/ipykernel_75773/2886546600.py\u001b[0m in \u001b[0;36m<module>\u001b[0;34m\u001b[0m\n\u001b[0;32m----> 1\u001b[0;31m \u001b[0mtorch\u001b[0m\u001b[0;34m.\u001b[0m\u001b[0mall\u001b[0m\u001b[0;34m(\u001b[0m\u001b[0mtorch\u001b[0m\u001b[0;34m.\u001b[0m\u001b[0mcat\u001b[0m\u001b[0;34m(\u001b[0m\u001b[0;34m(\u001b[0m\u001b[0me\u001b[0m\u001b[0;34m(\u001b[0m\u001b[0mx1\u001b[0m\u001b[0;34m)\u001b[0m\u001b[0;34m[\u001b[0m\u001b[0;36m0\u001b[0m\u001b[0;34m:\u001b[0m\u001b[0;34m:\u001b[0m\u001b[0;36m2\u001b[0m\u001b[0;34m]\u001b[0m\u001b[0;34m,\u001b[0m \u001b[0me\u001b[0m\u001b[0;34m(\u001b[0m\u001b[0mx1\u001b[0m\u001b[0;34m)\u001b[0m\u001b[0;34m[\u001b[0m\u001b[0;36m1\u001b[0m\u001b[0;34m:\u001b[0m\u001b[0;34m:\u001b[0m\u001b[0;36m2\u001b[0m\u001b[0;34m]\u001b[0m\u001b[0;34m)\u001b[0m\u001b[0;34m)\u001b[0m \u001b[0;34m==\u001b[0m \u001b[0mf\u001b[0m\u001b[0;34m(\u001b[0m\u001b[0me\u001b[0m\u001b[0;34m(\u001b[0m\u001b[0mx1\u001b[0m\u001b[0;34m)\u001b[0m\u001b[0;34m)\u001b[0m\u001b[0;34m)\u001b[0m\u001b[0;34m\u001b[0m\u001b[0;34m\u001b[0m\u001b[0m\n\u001b[0m",
      "\u001b[0;31mRuntimeError\u001b[0m: The size of tensor a (4) must match the size of tensor b (8) at non-singleton dimension 2"
     ]
    }
   ],
   "source": [
    "torch.all(torch.cat((e(x1)[0::2], e(x1)[1::2])) == f(e(x1)))"
   ]
  },
  {
   "cell_type": "code",
   "execution_count": 112,
   "id": "b33ff2b0",
   "metadata": {},
   "outputs": [],
   "source": [
    "v1 = torch.cat((e(x1)[:,::2,:], e(x1)[:,1::2,:]), dim=2)"
   ]
  },
  {
   "cell_type": "code",
   "execution_count": 114,
   "id": "b079c827",
   "metadata": {},
   "outputs": [
    {
     "data": {
      "text/plain": [
       "tensor(True)"
      ]
     },
     "execution_count": 114,
     "metadata": {},
     "output_type": "execute_result"
    }
   ],
   "source": [
    "torch.all(v1 == f(e(x1)))"
   ]
  },
  {
   "cell_type": "code",
   "execution_count": 113,
   "id": "a58be97c",
   "metadata": {},
   "outputs": [
    {
     "data": {
      "text/plain": [
       "torch.Size([4, 4, 8])"
      ]
     },
     "execution_count": 113,
     "metadata": {},
     "output_type": "execute_result"
    }
   ],
   "source": [
    "v1.shape"
   ]
  },
  {
   "cell_type": "code",
   "execution_count": 106,
   "id": "38a8e363",
   "metadata": {},
   "outputs": [
    {
     "data": {
      "text/plain": [
       "torch.Size([4, 4, 8])"
      ]
     },
     "execution_count": 106,
     "metadata": {},
     "output_type": "execute_result"
    }
   ],
   "source": [
    "f(e(x1)).shape"
   ]
  },
  {
   "cell_type": "code",
   "execution_count": null,
   "id": "8ed7ebe4",
   "metadata": {},
   "outputs": [],
   "source": []
  }
 ],
 "metadata": {
  "kernelspec": {
   "display_name": "Python 3 (ipykernel)",
   "language": "python",
   "name": "python3"
  },
  "language_info": {
   "codemirror_mode": {
    "name": "ipython",
    "version": 3
   },
   "file_extension": ".py",
   "mimetype": "text/x-python",
   "name": "python",
   "nbconvert_exporter": "python",
   "pygments_lexer": "ipython3",
   "version": "3.10.0"
  }
 },
 "nbformat": 4,
 "nbformat_minor": 5
}
