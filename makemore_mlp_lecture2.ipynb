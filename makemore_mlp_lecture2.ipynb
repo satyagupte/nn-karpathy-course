{
 "cells": [
  {
   "cell_type": "code",
   "execution_count": 76,
   "id": "16b91f86",
   "metadata": {},
   "outputs": [],
   "source": [
    "import re\n",
    "import torch\n",
    "import matplotlib.pyplot as plt\n",
    "import numpy as np\n",
    "%matplotlib inline\n",
    "import math\n",
    "import random"
   ]
  },
  {
   "cell_type": "code",
   "execution_count": 77,
   "id": "f1b6905c",
   "metadata": {},
   "outputs": [],
   "source": [
    "def read_bird_names(fname):\n",
    "    names = []\n",
    "    with open(fname, 'r') as fp:\n",
    "        next(fp)\n",
    "        for line in fp:\n",
    "            if \",Aves,\" in line:\n",
    "                toks = line.split(',')\n",
    "                try:\n",
    "                    name = toks[17].lower()\n",
    "                    #remove any non a-z, apostrophe or space\n",
    "                    name = re.sub(r'[^a-z\\s]', '', name)\n",
    "                    name = re.sub(r'\\s+', '_', name)\n",
    "                    name = name.strip()\n",
    "                    if len(name) > 3:\n",
    "                        names.append(name)\n",
    "                except:\n",
    "                    pass\n",
    "    return sorted(list(set(names)))\n",
    "words = read_bird_names(\"/Users/satyajitgupte/code/birds/taxa_english.csv\")"
   ]
  },
  {
   "cell_type": "code",
   "execution_count": 78,
   "id": "a411ebfd",
   "metadata": {},
   "outputs": [],
   "source": [
    "random.shuffle(words)"
   ]
  },
  {
   "cell_type": "code",
   "execution_count": 79,
   "id": "fd0673b2",
   "metadata": {},
   "outputs": [],
   "source": [
    "chars = sorted(list(set(''.join(words))))\n",
    "# +1 for .\n",
    "sz = len(chars) + 1\n",
    "itos = {i+1:s for i,s in enumerate(chars)}\n",
    "itos[0] = '.'\n",
    "stoi = {s:i for i,s in itos.items()}"
   ]
  },
  {
   "cell_type": "code",
   "execution_count": 80,
   "id": "a2285562",
   "metadata": {},
   "outputs": [
    {
     "data": {
      "text/plain": [
       "{1: '_',\n",
       " 2: 'a',\n",
       " 3: 'b',\n",
       " 4: 'c',\n",
       " 5: 'd',\n",
       " 6: 'e',\n",
       " 7: 'f',\n",
       " 8: 'g',\n",
       " 9: 'h',\n",
       " 10: 'i',\n",
       " 11: 'j',\n",
       " 12: 'k',\n",
       " 13: 'l',\n",
       " 14: 'm',\n",
       " 15: 'n',\n",
       " 16: 'o',\n",
       " 17: 'p',\n",
       " 18: 'q',\n",
       " 19: 'r',\n",
       " 20: 's',\n",
       " 21: 't',\n",
       " 22: 'u',\n",
       " 23: 'v',\n",
       " 24: 'w',\n",
       " 25: 'x',\n",
       " 26: 'y',\n",
       " 27: 'z',\n",
       " 0: '.'}"
      ]
     },
     "execution_count": 80,
     "metadata": {},
     "output_type": "execute_result"
    }
   ],
   "source": [
    "itos"
   ]
  },
  {
   "cell_type": "markdown",
   "id": "72a433c1",
   "metadata": {},
   "source": [
    "### implement the MLP model from https://www.jmlr.org/papers/volume3/bengio03a/bengio03a.pdf\n"
   ]
  },
  {
   "cell_type": "code",
   "execution_count": 81,
   "id": "00fddacc",
   "metadata": {},
   "outputs": [],
   "source": [
    "def make_dataset(words, block_size=2):\n",
    "    xs = []\n",
    "    ys = []\n",
    "    for word in words:\n",
    "        #print(word)\n",
    "        context = [0]*block_size\n",
    "        for char in word + '.':\n",
    "            ix = stoi[char]\n",
    "            ys.append(ix)\n",
    "            xs.append(context)\n",
    "            #print(f\"{''.join(itos[c] for c in context)}->{itos[ix]}\")\n",
    "            context = context[1:] + [ix]\n",
    "    return torch.tensor(xs), torch.tensor(ys)\n",
    "        "
   ]
  },
  {
   "cell_type": "code",
   "execution_count": 110,
   "id": "c6f2f4cb",
   "metadata": {},
   "outputs": [],
   "source": [
    "n1 = int(0.8*len(words))\n",
    "n2 = int(0.9*len(words))\n",
    "Xtr,Ytr = make_dataset(words[:n1], block_size=3)\n",
    "Xdev,Ydev = make_dataset(words[n1:n2], block_size=3)\n",
    "Xte,Yte = make_dataset(words[n2:], block_size=3)\n"
   ]
  },
  {
   "cell_type": "code",
   "execution_count": 111,
   "id": "a2f9e70e",
   "metadata": {},
   "outputs": [
    {
     "data": {
      "text/plain": [
       "(torch.Size([451916, 3]), torch.Size([57016, 3]), torch.Size([56228, 3]))"
      ]
     },
     "execution_count": 111,
     "metadata": {},
     "output_type": "execute_result"
    }
   ],
   "source": [
    "Xtr.shape, Xdev.shape, Xte.shape"
   ]
  },
  {
   "cell_type": "code",
   "execution_count": 140,
   "id": "6d6e0665",
   "metadata": {},
   "outputs": [],
   "source": [
    "emb_size = 20\n",
    "block_size = 3\n",
    "hidden = 100"
   ]
  },
  {
   "cell_type": "code",
   "execution_count": 141,
   "id": "3f91f1c0",
   "metadata": {},
   "outputs": [],
   "source": [
    "import torch.nn.functional as F\n",
    "C = torch.randn(sz, emb_size)\n",
    "W1 = torch.randn(emb_size*block_size, hidden)\n",
    "b1 = torch.randn(hidden)\n",
    "W2 = torch.randn(hidden, sz)\n",
    "b2 = torch.randn(sz)\n",
    "parameters = [C, W1, b1, W2, b2]\n",
    "for param in parameters:\n",
    "    param.requires_grad = True\n"
   ]
  },
  {
   "cell_type": "code",
   "execution_count": 142,
   "id": "c918af1a",
   "metadata": {},
   "outputs": [],
   "source": [
    "lossi = []\n",
    "stepi = []\n"
   ]
  },
  {
   "cell_type": "code",
   "execution_count": 161,
   "id": "8445337b",
   "metadata": {},
   "outputs": [],
   "source": [
    "for i in range(100000):\n",
    "    \n",
    "    # minibatch\n",
    "    ix = torch.randint(0, Xtr.shape[0], (32,))\n",
    "    # forward\n",
    "    emb = C[Xtr[ix]].view(-1, emb_size*block_size)\n",
    "    h = torch.tanh(emb @ W1 + b1)\n",
    "    logits = h @ W2 + b2\n",
    "    loss = F.cross_entropy(logits, Ytr[ix])\n",
    "\n",
    "    # backward pass\n",
    "    for param in parameters:\n",
    "        param.grad = None\n",
    "    loss.backward()\n",
    "\n",
    "    # update\n",
    "    for param in parameters:\n",
    "        lr = 0.005\n",
    "        param.data += -lr*param.grad\n",
    "    lossi.append(loss.item())\n",
    "    stepi.append(i)"
   ]
  },
  {
   "cell_type": "code",
   "execution_count": 162,
   "id": "10d3c98b",
   "metadata": {},
   "outputs": [
    {
     "data": {
      "text/plain": [
       "[<matplotlib.lines.Line2D at 0x10dba2f50>]"
      ]
     },
     "execution_count": 162,
     "metadata": {},
     "output_type": "execute_result"
    },
    {
     "data": {
      "image/png": "[encoded data removed]",
      "text/plain": [
       "<Figure size 432x288 with 1 Axes>"
      ]
     },
     "metadata": {
      "needs_background": "light"
     },
     "output_type": "display_data"
    }
   ],
   "source": [
    "plt.plot(stepi, lossi)"
   ]
  },
  {
   "cell_type": "code",
   "execution_count": 164,
   "id": "ad357b38",
   "metadata": {},
   "outputs": [
    {
     "data": {
      "text/plain": [
       "1.6726877689361572"
      ]
     },
     "execution_count": 164,
     "metadata": {},
     "output_type": "execute_result"
    }
   ],
   "source": [
    "loss.item()"
   ]
  },
  {
   "cell_type": "code",
   "execution_count": 165,
   "id": "488807c8",
   "metadata": {},
   "outputs": [
    {
     "data": {
      "text/plain": [
       "1.7420872449874878"
      ]
     },
     "execution_count": 165,
     "metadata": {},
     "output_type": "execute_result"
    }
   ],
   "source": [
    "# loss on entire training set\n",
    "emb = C[Xtr].view(-1, emb_size*block_size)\n",
    "h = torch.tanh(emb @ W1 + b1)\n",
    "logits = h @ W2 + b2\n",
    "loss = F.cross_entropy(logits, Ytr)\n",
    "loss.item()"
   ]
  },
  {
   "cell_type": "code",
   "execution_count": 166,
   "id": "68d54a2c",
   "metadata": {},
   "outputs": [
    {
     "data": {
      "text/plain": [
       "1.7442268133163452"
      ]
     },
     "execution_count": 166,
     "metadata": {},
     "output_type": "execute_result"
    }
   ],
   "source": [
    "# loss on entire dev set\n",
    "emb = C[Xdev].view(-1, emb_size*block_size)\n",
    "h = torch.tanh(emb @ W1 + b1)\n",
    "logits = h @ W2 + b2\n",
    "loss = F.cross_entropy(logits, Ydev)\n",
    "loss.item()"
   ]
  },
  {
   "cell_type": "code",
   "execution_count": 167,
   "id": "2f47ddec",
   "metadata": {},
   "outputs": [],
   "source": [
    "g = torch.Generator().manual_seed(7)"
   ]
  },
  {
   "cell_type": "code",
   "execution_count": 169,
   "id": "9c0cbfe9",
   "metadata": {},
   "outputs": [
    {
     "name": "stdout",
     "output_type": "stream",
     "text": [
      "cher\n",
      "typiculot\n",
      "cards\n",
      "gor\n",
      "panbackebia_islbrow\n",
      "southerontedreds\n",
      "mypicta_swarbler\n",
      "siicted_tnomuscnnamounteineafted_fadahur\n",
      "soads\n",
      "eurins_tlunked_lark\n",
      "easternsthianotn_greythroateba_raif_plain_rani_labirds_warblengueater\n",
      "chowbillandofagandwalliestern_froglasian_tit\n",
      "maninged_wren_sparrotstaner\n",
      "marted_mingea_seainn_oyte_pestforkbiller\n",
      "plawescr\n"
     ]
    }
   ],
   "source": [
    "\n",
    "for _ in range(15):\n",
    "    ix = [0]*block_size\n",
    "    out_ixs = []\n",
    "    while True:\n",
    "        emb = C[torch.tensor(ix)].view(-1, emb_size*block_size)\n",
    "        h = torch.tanh(emb @ W1 + b1)\n",
    "        logits = h @ W2 + b2\n",
    "        probs = F.softmax(logits, dim=1)\n",
    "        ix_out = torch.multinomial(probs, num_samples=1, replacement=True, generator=g).item()\n",
    "        ix.append(ix_out)\n",
    "        ix = ix[1:]\n",
    "        if ix_out == 0:\n",
    "            break\n",
    "        out_ixs.append(ix_out)\n",
    "    print(''.join(itos[ix] for ix in out_ixs))"
   ]
  },
  {
   "cell_type": "code",
   "execution_count": null,
   "id": "bbe491b3",
   "metadata": {},
   "outputs": [],
   "source": []
  }
 ],
 "metadata": {
  "kernelspec": {
   "display_name": "Python 3 (ipykernel)",
   "language": "python",
   "name": "python3"
  },
  "language_info": {
   "codemirror_mode": {
    "name": "ipython",
    "version": 3
   },
   "file_extension": ".py",
   "mimetype": "text/x-python",
   "name": "python",
   "nbconvert_exporter": "python",
   "pygments_lexer": "ipython3",
   "version": "3.10.0"
  }
 },
 "nbformat": 4,
 "nbformat_minor": 5
}
