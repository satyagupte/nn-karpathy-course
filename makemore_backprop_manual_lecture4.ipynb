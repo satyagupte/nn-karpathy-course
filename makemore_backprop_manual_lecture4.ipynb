{
 "cells": [
  {
   "cell_type": "code",
   "execution_count": 1,
   "id": "801f7344",
   "metadata": {},
   "outputs": [],
   "source": [
    "import re\n",
    "import torch\n",
    "import matplotlib.pyplot as plt\n",
    "import numpy as np\n",
    "%matplotlib inline\n",
    "import math\n",
    "import random\n",
    "import torch.nn.functional as F"
   ]
  },
  {
   "cell_type": "code",
   "execution_count": 2,
   "id": "1aea3634",
   "metadata": {},
   "outputs": [],
   "source": [
    "def read_bird_names(fname):\n",
    "    names = []\n",
    "    with open(fname, 'r') as fp:\n",
    "        next(fp)\n",
    "        for line in fp:\n",
    "            if \",Aves,\" in line:\n",
    "                toks = line.split(',')\n",
    "                try:\n",
    "                    name = toks[17].lower()\n",
    "                    #remove any non a-z, apostrophe or space\n",
    "                    name = re.sub(r'[^a-z\\s]', '', name)\n",
    "                    name = re.sub(r'\\s+', '_', name)\n",
    "                    name = name.strip()\n",
    "                    if len(name) > 3:\n",
    "                        names.append(name)\n",
    "                except:\n",
    "                    pass\n",
    "    return sorted(list(set(names)))\n",
    "words = read_bird_names(\"/Users/satyajitgupte/code/birds/taxa_english.csv\")\n",
    "random.shuffle(words)"
   ]
  },
  {
   "cell_type": "code",
   "execution_count": 3,
   "id": "be1b42a0",
   "metadata": {},
   "outputs": [
    {
     "data": {
      "text/plain": [
       "['yukon_blackcapped_chickadee',\n",
       " 'sonora_largebilled_sparrow',\n",
       " 'empidonax_flycatchers',\n",
       " 'pelzelns_todytyrant',\n",
       " 'varied_tits_and_allies']"
      ]
     },
     "execution_count": 3,
     "metadata": {},
     "output_type": "execute_result"
    }
   ],
   "source": [
    "words[:5]"
   ]
  },
  {
   "cell_type": "code",
   "execution_count": 4,
   "id": "08d9667c",
   "metadata": {},
   "outputs": [],
   "source": [
    "chars = sorted(list(set(''.join(words))))\n",
    "# +1 for .\n",
    "sz = len(chars) + 1\n",
    "itos = {i+1:s for i,s in enumerate(chars)}\n",
    "itos[0] = '.'\n",
    "stoi = {s:i for i,s in itos.items()}"
   ]
  },
  {
   "cell_type": "code",
   "execution_count": 5,
   "id": "559d8146",
   "metadata": {},
   "outputs": [],
   "source": [
    "def make_dataset(words, block_size=2):\n",
    "    xs = []\n",
    "    ys = []\n",
    "    for word in words:\n",
    "        #print(word)\n",
    "        context = [0]*block_size\n",
    "        for char in word + '.':\n",
    "            ix = stoi[char]\n",
    "            ys.append(ix)\n",
    "            xs.append(context)\n",
    "            #print(f\"{''.join(itos[c] for c in context)}->{itos[ix]}\")\n",
    "            context = context[1:] + [ix]\n",
    "    return torch.tensor(xs), torch.tensor(ys)"
   ]
  },
  {
   "cell_type": "code",
   "execution_count": 6,
   "id": "170ca2cb",
   "metadata": {},
   "outputs": [],
   "source": [
    "n1 = int(0.8*len(words))\n",
    "n2 = int(0.9*len(words))\n",
    "Xtr,Ytr = make_dataset(words[:n1], block_size=3)\n",
    "Xdev,Ydev = make_dataset(words[n1:n2], block_size=3)\n",
    "Xte,Yte = make_dataset(words[n2:], block_size=3)"
   ]
  },
  {
   "cell_type": "code",
   "execution_count": 7,
   "id": "69fe51b7",
   "metadata": {},
   "outputs": [
    {
     "data": {
      "text/plain": [
       "(torch.Size([451757, 3]), torch.Size([56547, 3]), torch.Size([56856, 3]))"
      ]
     },
     "execution_count": 7,
     "metadata": {},
     "output_type": "execute_result"
    }
   ],
   "source": [
    "Xtr.shape, Xdev.shape, Xte.shape"
   ]
  },
  {
   "cell_type": "code",
   "execution_count": 34,
   "id": "d6640c58",
   "metadata": {},
   "outputs": [],
   "source": [
    "def cmp(s, dt, t):\n",
    "    ex_equals = torch.all(dt == t.grad).item()\n",
    "    approx_equals = torch.allclose(dt, t.grad)\n",
    "    max_diff = (dt - t.grad).abs().max().item()\n",
    "    print(f'{s:15s} | ex:{str(ex_equals):5s} | approx:{str(approx_equals):5s} | maxdiff:{max_diff}')"
   ]
  },
  {
   "cell_type": "code",
   "execution_count": 8,
   "id": "d2033eef",
   "metadata": {},
   "outputs": [
    {
     "name": "stdout",
     "output_type": "stream",
     "text": [
      "Parameters =  4212\n"
     ]
    }
   ],
   "source": [
    "n_embd = 10\n",
    "block_size = 3\n",
    "n_hidden = 64\n",
    "\n",
    "C = torch.randn((sz, n_embd))\n",
    "# Layer 1\n",
    "W1 = torch.randn((block_size*n_embd), n_hidden) * 5/3 /(n_embd*block_size)**0.5\n",
    "b1 = torch.randn(n_hidden) * 0.1\n",
    "\n",
    "# Layer 2\n",
    "W2 = torch.randn((n_hidden, sz)) * 0.1\n",
    "b2 = torch.randn(sz) * 0.1\n",
    "\n",
    "# BatchNorm params\n",
    "bngain = torch.ones((1, n_hidden)) * 0.1 + 1\n",
    "bnbias = torch.zeros((1, n_hidden)) * 0.1\n",
    "\n",
    "# karapthy inits params (multiply by 0.1) because initing with 0 can hide errors in manual backprop\n",
    "\n",
    "parameters = [C, W1, b1, W2, b2, bngain, bnbias]\n",
    "for param in parameters:\n",
    "    param.requires_grad = True\n",
    "print(\"Parameters = \", sum(p.nelement() for p in parameters))"
   ]
  },
  {
   "cell_type": "code",
   "execution_count": 9,
   "id": "833bd787",
   "metadata": {},
   "outputs": [],
   "source": [
    "batch_size = 32\n",
    "n = batch_size\n",
    "ix = torch.randint(0, Xtr.shape[0], (batch_size, ))\n",
    "Xb, Yb = Xtr[ix], Ytr[ix]"
   ]
  },
  {
   "cell_type": "code",
   "execution_count": 10,
   "id": "7e2e5480",
   "metadata": {},
   "outputs": [],
   "source": [
    "# forward pass - chunkated\n",
    "emb = C[Xb]\n",
    "embcat = emb.view(emb.shape[0], -1) # concat the embs\n",
    "#Layer 1\n",
    "hprebn = embcat @ W1 + b1\n",
    "# Batch Norm\n",
    "bnmeani = (1/n)*hprebn.sum(dim=0, keepdim=True)\n",
    "bndiff = hprebn - bnmeani\n",
    "bndiff2 = bndiff**2\n",
    "bnvar = (1/(n-1))*bndiff2.sum(dim=0, keepdim=True)\n",
    "bnvar_inv = (bnvar + 1e-5)**-0.5\n",
    "bnraw = bndiff*bnvar_inv\n",
    "hpreact = bngain * bnraw + bnbias\n",
    "\n",
    "# Non Linearity\n",
    "h = torch.tanh(hpreact)\n",
    "\n",
    "# Linear Layer 2\n",
    "logits = h @ W2 + b2\n",
    "\n",
    "# softmax \n",
    "logits_max = logits.max(1, keepdim=True).values\n",
    "norm_logits = logits - logits_max # subtract max for numerical stability\n",
    "counts = norm_logits.exp()\n",
    "counts_sum = counts.sum(1, keepdim=True)\n",
    "counts_sum_inv = counts_sum**-1\n",
    "probs = counts*counts_sum_inv\n",
    "logprobs = probs.log()\n",
    "loss = -logprobs[range(n), Yb].mean()\n",
    "\n",
    "# pytorch backward pass\n",
    "for param in parameters:\n",
    "    param.grad = None\n",
    "    \n",
    "for t in [logprobs, probs, counts_sum_inv, counts_sum, counts, norm_logits, logits_max, logits,\n",
    "         h, hpreact, bnraw, bnvar_inv, bnvar, bndiff2, bndiff, bnmeani, hprebn, embcat, emb]:\n",
    "    t.retain_grad()\n",
    "    \n",
    "loss.backward()\n",
    "\n",
    "\n",
    "\n",
    "\n",
    "\n"
   ]
  },
  {
   "cell_type": "code",
   "execution_count": 133,
   "id": "20996c0c",
   "metadata": {},
   "outputs": [
    {
     "data": {
      "text/plain": [
       "(torch.Size([32, 3, 10]), torch.Size([28, 10]), torch.Size([32, 3]))"
      ]
     },
     "execution_count": 133,
     "metadata": {},
     "output_type": "execute_result"
    }
   ],
   "source": [
    "emb.shape, C.shape, Xb.shape"
   ]
  },
  {
   "cell_type": "code",
   "execution_count": 139,
   "id": "ace48891",
   "metadata": {
    "scrolled": true
   },
   "outputs": [
    {
     "name": "stdout",
     "output_type": "stream",
     "text": [
      "dlogprobs       | ex:True  | approx:True  | maxdiff:0.0\n",
      "dprobs          | ex:True  | approx:True  | maxdiff:0.0\n",
      "dcounts_sum_inv | ex:True  | approx:True  | maxdiff:0.0\n",
      "dcounts_sum     | ex:True  | approx:True  | maxdiff:0.0\n",
      "dcounts         | ex:True  | approx:True  | maxdiff:0.0\n",
      "dnorm_logits    | ex:True  | approx:True  | maxdiff:0.0\n",
      "dlogits_max     | ex:True  | approx:True  | maxdiff:0.0\n",
      "dlogits         | ex:True  | approx:True  | maxdiff:0.0\n",
      "dh              | ex:True  | approx:True  | maxdiff:0.0\n",
      "dW2             | ex:True  | approx:True  | maxdiff:0.0\n",
      "db2             | ex:True  | approx:True  | maxdiff:0.0\n",
      "dhpreact        | ex:True  | approx:True  | maxdiff:0.0\n",
      "dbngain         | ex:True  | approx:True  | maxdiff:0.0\n",
      "dbnraw          | ex:True  | approx:True  | maxdiff:0.0\n",
      "dbnbias         | ex:True  | approx:True  | maxdiff:0.0\n",
      "dbnvar_inv      | ex:True  | approx:True  | maxdiff:0.0\n",
      "dbnvar          | ex:True  | approx:True  | maxdiff:0.0\n",
      "dbndiff2        | ex:True  | approx:True  | maxdiff:0.0\n",
      "dbndiff         | ex:True  | approx:True  | maxdiff:0.0\n",
      "dhprebn         | ex:True  | approx:True  | maxdiff:0.0\n",
      "dbnmeani        | ex:True  | approx:True  | maxdiff:0.0\n",
      "dW1             | ex:True  | approx:True  | maxdiff:0.0\n",
      "db1             | ex:True  | approx:True  | maxdiff:0.0\n",
      "dembcat         | ex:True  | approx:True  | maxdiff:0.0\n",
      "dC              | ex:True  | approx:True  | maxdiff:0.0\n"
     ]
    }
   ],
   "source": [
    "# manual backprop\n",
    "dlogprobs = torch.zeros_like(logprobs)\n",
    "dlogprobs[range(n), Yb] = -1.0/n\n",
    "dprobs = (1/probs) * dlogprobs\n",
    "dcounts_sum_inv = (counts * dprobs).sum(1, keepdim=True)\n",
    "dcounts = counts_sum_inv * dprobs\n",
    "dcounts_sum = (-1 * (counts_sum)**-2) * dcounts_sum_inv\n",
    "dcounts += torch.ones_like(counts) * dcounts_sum\n",
    "dnorm_logits = norm_logits.exp() * dcounts # norm_logits.exp() is just counts, so we can also write as counts * dcounts\n",
    "dlogits = dnorm_logits.clone()\n",
    "dlogits_max = -(dnorm_logits).sum(1, keepdim=True)\n",
    "dlogits += F.one_hot(logits.max(1).indices, dlogits.shape[1]) * dlogits_max\n",
    "dh = dlogits @ W2.T\n",
    "dW2 = h.T @ dlogits\n",
    "db2 = dlogits.sum(0)\n",
    "dhpreact = (1 - h**2) * dh\n",
    "dbngain = (bnraw * dhpreact).sum(0, keepdim=True)\n",
    "dbnraw = (bngain * dhpreact)\n",
    "dbnbias = dhpreact.sum(0, keepdim=True)\n",
    "dbndiff = bnvar_inv * dbnraw \n",
    "dbnvar_inv = (bndiff * dbnraw).sum(0, keepdim=True)\n",
    "dbnvar = (-0.5)*((bnvar+1e-5)**-1.5) * dbnvar_inv\n",
    "dbndiff2 = (1/(n-1)) * torch.ones_like(bndiff2) * dbnvar\n",
    "dbndiff += 2*(bndiff)*dbndiff2\n",
    "dhprebn = dbndiff.clone()\n",
    "dbnmeani = -(dbndiff).sum(0, keepdim=True)\n",
    "dhprebn += (1/n)*(torch.ones_like(hprebn)*dbnmeani)\n",
    "dW1 = embcat.T @ dhprebn\n",
    "db1 = dhprebn.sum(0)\n",
    "dembcat = dhprebn @ W1.T\n",
    "demb = dembcat.view(emb.shape)\n",
    "dC = torch.zeros_like(C)\n",
    "for k in range(Xb.shape[0]):\n",
    "    for j in range(Xb.shape[1]):\n",
    "        ix = Xb[k][j]\n",
    "        dC[ix] += demb[k][j]\n",
    "\n",
    "cmp('dlogprobs', dlogprobs, logprobs)\n",
    "cmp('dprobs', dprobs, probs)\n",
    "cmp('dcounts_sum_inv', dcounts_sum_inv, counts_sum_inv)\n",
    "cmp('dcounts_sum', dcounts_sum, counts_sum)\n",
    "cmp('dcounts', dcounts, counts)\n",
    "cmp('dnorm_logits', dnorm_logits, norm_logits)\n",
    "cmp('dlogits_max', dlogits_max, logits_max)\n",
    "cmp('dlogits', dlogits, logits)\n",
    "cmp('dh', dh, h)\n",
    "cmp('dW2', dW2, W2)\n",
    "cmp('db2', db2, b2)\n",
    "cmp('dhpreact', dhpreact, hpreact)\n",
    "cmp('dbngain', dbngain, bngain)\n",
    "cmp('dbnraw', dbnraw, bnraw)\n",
    "cmp('dbnbias', dbnbias, bnbias)\n",
    "\n",
    "cmp('dbnvar_inv', dbnvar_inv, bnvar_inv)\n",
    "cmp('dbnvar', dbnvar, bnvar)\n",
    "cmp('dbndiff2', dbndiff2, bndiff2)\n",
    "cmp('dbndiff', dbndiff, bndiff)\n",
    "cmp('dhprebn', dhprebn, hprebn)\n",
    "cmp('dbnmeani', dbnmeani, bnmeani )\n",
    "cmp('dW1', dW1, W1)\n",
    "cmp('db1', db1, b1)\n",
    "cmp('dembcat', dembcat, embcat)\n",
    "cmp('dC', dC, C)"
   ]
  },
  {
   "cell_type": "code",
   "execution_count": 143,
   "id": "bba0c06e",
   "metadata": {},
   "outputs": [
    {
     "data": {
      "text/plain": [
       "3.5067431926727295"
      ]
     },
     "execution_count": 143,
     "metadata": {},
     "output_type": "execute_result"
    }
   ],
   "source": [
    "## exercise 2 - backprop through cross entropy all in one go - directly into dlogits \n",
    "loss_fast = F.cross_entropy(logits, Yb)\n",
    "loss_fast.item()"
   ]
  },
  {
   "cell_type": "code",
   "execution_count": 145,
   "id": "28e4f2ca",
   "metadata": {},
   "outputs": [
    {
     "name": "stdout",
     "output_type": "stream",
     "text": [
      "dlogits         | ex:False | approx:True  | maxdiff:4.6566128730773926e-09\n"
     ]
    }
   ],
   "source": [
    "dlogits = F.softmax(logits, 1)\n",
    "dlogits[range(n), Yb] -= 1\n",
    "dlogits/=n\n",
    "\n",
    "cmp('dlogits', dlogits, logits)"
   ]
  },
  {
   "cell_type": "code",
   "execution_count": 146,
   "id": "930ddfd7",
   "metadata": {},
   "outputs": [
    {
     "data": {
      "text/plain": [
       "torch.Size([32, 28])"
      ]
     },
     "execution_count": 146,
     "metadata": {},
     "output_type": "execute_result"
    }
   ],
   "source": [
    "dlogits.shape"
   ]
  },
  {
   "cell_type": "code",
   "execution_count": 151,
   "id": "9ff430dd",
   "metadata": {},
   "outputs": [
    {
     "data": {
      "text/plain": [
       "tensor(-2.3283e-09, grad_fn=<SumBackward1>)"
      ]
     },
     "execution_count": 151,
     "metadata": {},
     "output_type": "execute_result"
    }
   ],
   "source": [
    "dlogits[0].sum(0)"
   ]
  },
  {
   "cell_type": "code",
   "execution_count": 152,
   "id": "a7a05eed",
   "metadata": {},
   "outputs": [
    {
     "data": {
      "text/plain": [
       "tensor([ 2,  6,  2,  6,  2,  5,  6,  1, 22, 16,  1, 16, 15,  5,  1, 24, 20,  2,\n",
       "         9, 19,  9, 19,  4, 15,  2,  8,  5, 10, 17, 15, 13,  6])"
      ]
     },
     "execution_count": 152,
     "metadata": {},
     "output_type": "execute_result"
    }
   ],
   "source": [
    "Yb"
   ]
  },
  {
   "cell_type": "code",
   "execution_count": 158,
   "id": "b9c3a86f",
   "metadata": {},
   "outputs": [
    {
     "data": {
      "text/plain": [
       "<matplotlib.image.AxesImage at 0x119272b30>"
      ]
     },
     "execution_count": 158,
     "metadata": {},
     "output_type": "execute_result"
    },
    {
     "data": {
      "image/png": "[encoded data removed]",
      "text/plain": [
       "<Figure size 288x288 with 1 Axes>"
      ]
     },
     "metadata": {
      "needs_background": "light"
     },
     "output_type": "display_data"
    }
   ],
   "source": [
    "plt.figure(figsize=(4,4))\n",
    "plt.imshow(dlogits.detach(), cmap='gray')"
   ]
  },
  {
   "cell_type": "code",
   "execution_count": 162,
   "id": "ba5d9f0a",
   "metadata": {},
   "outputs": [],
   "source": [
    "# exercise 3 - batch norm in one go \n",
    "hpreact_fast = bngain * (hprebn - hprebn.mean(0, keepdim=True))/(torch.sqrt(hprebn.var(0, keepdim=True, unbiased=True)) + 1e-5) + bnbias"
   ]
  },
  {
   "cell_type": "code",
   "execution_count": 166,
   "id": "b48c2040",
   "metadata": {},
   "outputs": [
    {
     "name": "stdout",
     "output_type": "stream",
     "text": [
      "max diff 1.9073486328125e-05\n"
     ]
    }
   ],
   "source": [
    "print(\"max diff\", (hpreact - hpreact_fast).abs().max().item())"
   ]
  },
  {
   "cell_type": "code",
   "execution_count": 164,
   "id": "f390ef7a",
   "metadata": {},
   "outputs": [
    {
     "data": {
      "text/plain": [
       "tensor([[-0.4598,  1.2692, -1.5245,  ...,  0.9709, -0.8569,  0.0478],\n",
       "        [ 0.8229, -0.8626,  0.3934,  ..., -0.9928,  0.9970,  1.5302],\n",
       "        [ 0.6999, -0.0329,  0.4582,  ...,  0.9343,  2.0105,  0.6890],\n",
       "        ...,\n",
       "        [ 0.4156, -0.5754,  1.3126,  ...,  1.1792, -0.4452, -1.1641],\n",
       "        [ 0.0340,  0.2886,  2.2573,  ...,  0.2320,  0.6122, -1.6238],\n",
       "        [ 0.2789,  0.2242, -1.6070,  ...,  0.9060, -0.7442,  2.0736]],\n",
       "       grad_fn=<AddBackward0>)"
      ]
     },
     "execution_count": 164,
     "metadata": {},
     "output_type": "execute_result"
    }
   ],
   "source": [
    "hpreact"
   ]
  },
  {
   "cell_type": "code",
   "execution_count": 167,
   "id": "d82660c6",
   "metadata": {},
   "outputs": [],
   "source": [
    "# backprop through batchnorm \n",
    "\n",
    "# before we had\n",
    "# dbnraw = (bngain * dhpreact)\n",
    "# dbnbias = dhpreact.sum(0, keepdim=True)\n",
    "# dbndiff = bnvar_inv * dbnraw \n",
    "# dbnvar_inv = (bndiff * dbnraw).sum(0, keepdim=True)\n",
    "# dbnvar = (-0.5)*((bnvar+1e-5)**-1.5) * dbnvar_inv\n",
    "# dbndiff2 = (1/(n-1)) * torch.ones_like(bndiff2) * dbnvar\n",
    "# dbndiff += 2*(bndiff)*dbndiff2\n",
    "# dhprebn = dbndiff.clone()\n",
    "# dbnmeani = -(dbndiff).sum(0, keepdim=True)\n",
    "# dhprebn += (1/n)*(torch.ones_like(hprebn)*dbnmeani)\n",
    "\n",
    "dhprebn = bngain*bnvar_inv/n * (n*dhpreact - dhpreact.sum(0) - n/(n-1)*bnraw*(dhpreact*bnraw).sum(0))"
   ]
  },
  {
   "cell_type": "code",
   "execution_count": 168,
   "id": "33164511",
   "metadata": {},
   "outputs": [
    {
     "name": "stdout",
     "output_type": "stream",
     "text": [
      "dhprebn         | ex:False | approx:True  | maxdiff:9.313225746154785e-10\n"
     ]
    }
   ],
   "source": [
    "cmp('dhprebn', dhprebn, hprebn)"
   ]
  },
  {
   "cell_type": "code",
   "execution_count": 220,
   "id": "c1a986ab",
   "metadata": {
    "scrolled": true
   },
   "outputs": [
    {
     "name": "stdout",
     "output_type": "stream",
     "text": [
      "Parameters =  4212\n",
      "Iter :0/200000 Loss:3.6234\n",
      "Iter :10000/200000 Loss:2.3891\n",
      "Iter :20000/200000 Loss:1.9550\n",
      "Iter :30000/200000 Loss:2.3792\n",
      "Iter :40000/200000 Loss:1.6772\n",
      "Iter :50000/200000 Loss:2.6051\n",
      "Iter :60000/200000 Loss:2.1344\n",
      "Iter :70000/200000 Loss:2.2110\n",
      "Iter :80000/200000 Loss:2.2993\n",
      "Iter :90000/200000 Loss:1.5010\n",
      "Iter :100000/200000 Loss:1.4020\n",
      "Iter :110000/200000 Loss:2.0208\n",
      "Iter :120000/200000 Loss:1.9258\n",
      "Iter :130000/200000 Loss:1.8495\n",
      "Iter :140000/200000 Loss:1.7163\n",
      "Iter :150000/200000 Loss:1.8357\n",
      "Iter :160000/200000 Loss:2.0494\n",
      "Iter :170000/200000 Loss:2.1857\n",
      "Iter :180000/200000 Loss:1.9870\n",
      "Iter :190000/200000 Loss:1.8050\n"
     ]
    }
   ],
   "source": [
    "# Exercise 4 - Full optmization with manual backprop\n",
    "\n",
    "n_embd = 10\n",
    "block_size = 3\n",
    "n_hidden = 64\n",
    "\n",
    "C = torch.randn((sz, n_embd))\n",
    "# Layer 1\n",
    "W1 = torch.randn((block_size*n_embd), n_hidden) * 5/3 /(n_embd*block_size)**0.5\n",
    "b1 = torch.randn(n_hidden) * 0.1\n",
    "\n",
    "# Layer 2\n",
    "W2 = torch.randn((n_hidden, sz)) * 0.1\n",
    "b2 = torch.randn(sz) * 0.1\n",
    "\n",
    "# BatchNorm params\n",
    "bngain = torch.ones((1, n_hidden)) * 0.1 + 1\n",
    "bnbias = torch.zeros((1, n_hidden)) * 0.1\n",
    "\n",
    "# karapthy inits params (multiply by 0.1) because initing with 0 can hide errors in manual backprop\n",
    "\n",
    "parameters = [C, W1, b1, W2, b2, bngain, bnbias]\n",
    "for param in parameters:\n",
    "    param.requires_grad = True\n",
    "print(\"Parameters = \", sum(p.nelement() for p in parameters))\n",
    "\n",
    "\n",
    "batch_size = 32\n",
    "n = batch_size\n",
    "max_steps = 200000\n",
    "lossi = []\n",
    "\n",
    "# since we are doing manual bacprop, dont need torch auutograd\n",
    "with torch.no_grad():\n",
    "\n",
    "    for i in range(max_steps):\n",
    "\n",
    "        # get batch \n",
    "        ix = torch.randint(0, Xtr.shape[0], (batch_size, ))\n",
    "        Xb, Yb = Xtr[ix], Ytr[ix]\n",
    "\n",
    "        # forward pass\n",
    "        emb = C[Xb]\n",
    "        embcat = emb.view(emb.shape[0], -1) # concat the embs\n",
    "\n",
    "        # Layer 1\n",
    "        hprebn = embcat @ W1 + b1\n",
    "\n",
    "        # Batch Norm  \n",
    "        bnmean = hprebn.mean(0, keepdim=True)\n",
    "        bnvar = hprebn.var(0, keepdim=True, unbiased=True)\n",
    "        bnvar_inv = (bnvar + 1e-5)**-0.5\n",
    "        bnraw = (hprebn - bnmean) * bnvar_inv\n",
    "        hpreact = bngain * bnraw+ bnbias\n",
    "\n",
    "        # Non Linearity\n",
    "        h = torch.tanh(hpreact)\n",
    "        # Linear Layer 2\n",
    "        logits = h @ W2 + b2   \n",
    "        # cross entropy\n",
    "        loss = F.cross_entropy(logits, Yb)\n",
    "\n",
    "\n",
    "        # backprop\n",
    "        for param in parameters:\n",
    "            param.grad = None\n",
    "\n",
    "        \n",
    "        #loss.backward()\n",
    "\n",
    "\n",
    "\n",
    "        # manual backprop\n",
    "        dlogits = F.softmax(logits, 1)\n",
    "        dlogits[range(n), Yb] -= 1\n",
    "        dlogits/=n\n",
    "\n",
    "        # 2nd layer backprop\n",
    "        dh = dlogits @ W2.T\n",
    "        dW2 = h.T @ dlogits\n",
    "        db2 = dlogits.sum(0)\n",
    "        # backprop through tanh\n",
    "        dhpreact = (1.0 - h**2) * dh\n",
    "\n",
    "        #batchnorm backprop\n",
    "        dbngain = (bnraw * dhpreact).sum(0, keepdim=True)\n",
    "        dbnbias = dhpreact.sum(0, keepdim=True)\n",
    "\n",
    "        # I just copied this from karpathy's notebook. \n",
    "        dhprebn = bngain*bnvar_inv/n * (n*dhpreact - dhpreact.sum(0) - n/(n-1)*bnraw*(dhpreact*bnraw).sum(0))\n",
    "\n",
    "        # 1st Layer \n",
    "        dembcat = dhprebn @ W1.T\n",
    "        dW1 = embcat.T @ dhprebn\n",
    "        db1 = dhprebn.sum(0)\n",
    "\n",
    "\n",
    "        # backprop through embs \n",
    "\n",
    "        demb = dembcat.view(emb.shape)\n",
    "        dC = torch.zeros_like(C)\n",
    "        for k in range(Xb.shape[0]):\n",
    "            for j in range(Xb.shape[1]):\n",
    "                ix = Xb[k][j]\n",
    "                dC[ix] += demb[k][j]\n",
    "\n",
    "        grads = [dC, dW1, db1, dW2, db2, dbngain, dbnbias]\n",
    "        # update grads\n",
    "        lr = 0.1 if i < 100000 else 0.01\n",
    "        for p, grad in zip(parameters, grads):\n",
    "            #cmp(\"shape:{}\".format(grad.shape), grad, p)\n",
    "\n",
    "            #p.data += -lr*p.grad\n",
    "            #print(p.shape, grad.shape)\n",
    "            p.data += -lr*grad\n",
    "\n",
    "        if i % 10000 == 0:\n",
    "            print(\"Iter :{}/{} Loss:{:.4f}\".format(i, max_steps, loss.item()))\n",
    "        lossi.append(loss.item())\n",
    "        #break\n",
    "\n",
    "\n",
    "\n",
    "\n",
    "\n",
    "\n"
   ]
  },
  {
   "cell_type": "code",
   "execution_count": 241,
   "id": "1817009a",
   "metadata": {},
   "outputs": [
    {
     "data": {
      "text/plain": [
       "[<matplotlib.lines.Line2D at 0x11f84b190>]"
      ]
     },
     "execution_count": 241,
     "metadata": {},
     "output_type": "execute_result"
    },
    {
     "data": {
      "image/png": "[encoded data removed]",
      "text/plain": [
       "<Figure size 432x288 with 1 Axes>"
      ]
     },
     "metadata": {
      "needs_background": "light"
     },
     "output_type": "display_data"
    }
   ],
   "source": [
    "plt.plot(torch.tensor(lossi).view(-1, 1000).mean(dim=1))"
   ]
  },
  {
   "cell_type": "code",
   "execution_count": 204,
   "id": "b19e0b76",
   "metadata": {},
   "outputs": [
    {
     "data": {
      "text/plain": [
       "tensor([3.4125, 3.5151, 3.4015,  ..., 1.5967, 1.9766, 2.0802])"
      ]
     },
     "execution_count": 204,
     "metadata": {},
     "output_type": "execute_result"
    }
   ],
   "source": [
    "torch.tensor(lossi).view(-1, 2).mean(dim=1)"
   ]
  },
  {
   "cell_type": "code",
   "execution_count": 222,
   "id": "a6ce6218",
   "metadata": {},
   "outputs": [],
   "source": [
    "# calibrate batch norm at the end of training\n",
    "with torch.no_grad():\n",
    "    emb = C[Xtr]\n",
    "    embcat = emb.view(emb.shape[0], -1)\n",
    "    hpreact = embcat @ W1 + b1\n",
    "    bnmean = hpreact.mean(0, keepdim=True)\n",
    "    bnvar = hpreact.var(0, keepdim=True, unbiased=True)"
   ]
  },
  {
   "cell_type": "code",
   "execution_count": 223,
   "id": "0e0e932a",
   "metadata": {},
   "outputs": [],
   "source": [
    "@torch.no_grad\n",
    "def evaluate_loss(split):\n",
    "    X, Y = {\n",
    "        \"train\": (Xtr, Ytr),\n",
    "        \"dev\": (Xdev, Ydev),\n",
    "        \"test\": (Xte, Yte)\n",
    "    }[split]\n",
    "    emb = C[X]\n",
    "    embcat = emb.view(emb.shape[0], -1)\n",
    "    hpreact = embcat @ W1 + b1\n",
    "    hpreact = bngain * (hpreact - bnmean)* (bnvar+1e-5)**-0.5 + bnbias\n",
    "    \n",
    "    # non-linearity\n",
    "    h = torch.tanh(hpreact)\n",
    "    logits = h @ W2 + b2\n",
    "    loss = F.cross_entropy(logits, Y)\n",
    "    print(split, \"Loss=\", loss.item())\n",
    "    "
   ]
  },
  {
   "cell_type": "code",
   "execution_count": 224,
   "id": "67a39de6",
   "metadata": {},
   "outputs": [
    {
     "name": "stdout",
     "output_type": "stream",
     "text": [
      "train Loss= 1.7864493131637573\n",
      "dev Loss= 1.7827987670898438\n",
      "test Loss= 1.8062044382095337\n"
     ]
    }
   ],
   "source": [
    "evaluate_loss(\"train\")\n",
    "evaluate_loss(\"dev\")\n",
    "evaluate_loss(\"test\")"
   ]
  },
  {
   "cell_type": "code",
   "execution_count": 238,
   "id": "e3a807bf",
   "metadata": {},
   "outputs": [
    {
     "name": "stdout",
     "output_type": "stream",
     "text": [
      "pler.\n",
      "woodpecker.\n",
      "earther.\n",
      "narnch.\n",
      "starbler.\n",
      "nuzbao.\n",
      "greer_tnaceeds_cry_burgemche_czudlightikz_oinchested_milpe_pen.\n",
      "pal.\n",
      "eantsas.\n",
      "maleenneds_suluckownd_stowe_buy.\n",
      "rufpes_anin.\n",
      "chathroatellowe_petelrssnyshrikeet.\n",
      "alarthel.\n",
      "whiteeyeatches.\n",
      "rctler.\n",
      "mouddatgew_whiteeye.\n",
      "eabird.\n",
      "pinetailes_cis_ifinch.\n",
      "pinian_boubler.\n",
      "oop.\n"
     ]
    }
   ],
   "source": [
    "# sample from the model\n",
    "\n",
    "\n",
    "for _ in range(20):\n",
    "    context = [0] * block_size\n",
    "    outs = []\n",
    "    while True:\n",
    "        emb = C[torch.tensor([context])]\n",
    "        embcat = emb.view(emb.shape[0], -1)\n",
    "        hpreact = embcat @ W1 + b1\n",
    "        hpreact = bngain * (hpreact - bnmean) * (bnvar + 1e-5)**-0.5 + bnbias\n",
    "        h = torch.tanh(hpreact)\n",
    "        logits = h @ W2 + b2\n",
    "        probs = F.softmax(logits, dim=1)\n",
    "        ix = torch.multinomial(probs, 1).item()\n",
    "        context = context[1:] + [ix]\n",
    "        outs.append(ix)\n",
    "        if ix == 0:\n",
    "            break\n",
    "    print(\"\".join(itos[i] for i in outs))\n",
    "\n",
    "        \n",
    "        "
   ]
  },
  {
   "cell_type": "code",
   "execution_count": null,
   "id": "66128e64",
   "metadata": {},
   "outputs": [],
   "source": []
  }
 ],
 "metadata": {
  "kernelspec": {
   "display_name": "Python 3 (ipykernel)",
   "language": "python",
   "name": "python3"
  },
  "language_info": {
   "codemirror_mode": {
    "name": "ipython",
    "version": 3
   },
   "file_extension": ".py",
   "mimetype": "text/x-python",
   "name": "python",
   "nbconvert_exporter": "python",
   "pygments_lexer": "ipython3",
   "version": "3.10.0"
  }
 },
 "nbformat": 4,
 "nbformat_minor": 5
}
